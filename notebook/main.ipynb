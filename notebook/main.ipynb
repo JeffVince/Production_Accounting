{
 "cells": [
  {
   "cell_type": "code",
   "id": "initial_id",
   "metadata": {
    "collapsed": true,
    "ExecuteTime": {
     "end_time": "2025-02-18T00:15:32.339383Z",
     "start_time": "2025-02-18T00:15:32.146911Z"
    }
   },
   "source": [
    "import logging\n",
    "\n",
    "from sqlalchemy.exc import OperationalError\n",
    "\n",
    "from server_celery.logging_setup import setup_logging  # Ensure correct import path\n",
    "\n",
    "# 1. Initialize logging **before** creating the Celery app\n",
    "setup_logging()\n",
    "import sys\n",
    "from celery import Celery, Task\n",
    "from database.db_util import initialize_database\n",
    "from utilities.config import Config\n",
    "from dotenv import load_dotenv\n",
    "from server_celery.logging_setup import clear_log_files\n",
    "load_dotenv(\"../.env\")\n",
    "logger = logging.getLogger('admin_logger')\n"
   ],
   "outputs": [],
   "execution_count": 1
  },
  {
   "metadata": {
    "ExecuteTime": {
     "end_time": "2025-02-18T00:15:33.912476Z",
     "start_time": "2025-02-18T00:15:33.873904Z"
    }
   },
   "cell_type": "code",
   "source": [
    "config = Config()\n",
    "db_settings = config.get_database_settings(config.USE_LOCAL)\n",
    "\n",
    "try:\n",
    "    initialize_database(db_settings['url'])\n",
    "    logger.info('DB initialization is done.')\n",
    "except Exception as e:\n",
    "    logger.error(f'DB initialization failed! Error={e}', exc_info=True)"
   ],
   "id": "c51a3ff80df09ff5",
   "outputs": [
    {
     "name": "stderr",
     "output_type": "stream",
     "text": [
      "[14:15:33]-[910] [ 🌒DEBUG] [db_util.py      ] [  initialize_database   ] Database initialized with connection string: mysql+pymysql://root:z //55gohi@localhost:3306/virtual_pm\n",
      "[14:15:33]-[911] [  🌑INFO] [4083959711.py   ] [        <module>        ] DB initialization is done.\n"
     ]
    }
   ],
   "execution_count": 2
  },
  {
   "metadata": {
    "ExecuteTime": {
     "end_time": "2025-02-18T00:15:40.774908Z",
     "start_time": "2025-02-18T00:15:35.804506Z"
    }
   },
   "cell_type": "code",
   "source": [
    "\"\"\"\n",
    "server_celery/triggers/budget_triggers.py\n",
    "\n",
    "Holds trigger functions for:\n",
    "  - PO Log\n",
    "  - PurchaseOrder (PO)\n",
    "  - DetailItem\n",
    "\n",
    "Utilizes aggregator checks to distinguish between partial vs. final logic.\n",
    "In partial mode (aggregator in progress), we skip big logic like Xero or Monday calls.\n",
    "Once aggregator is done (status='COMPLETED'), we perform the single-item logic,\n",
    "including sibling checks (like for INV sums, CC receipts, etc.).\n",
    "\"\"\"\n",
    "\n",
    "import logging\n",
    "\n",
    "# region 🔧 Imports\n",
    "from database.db_util import get_db_session\n",
    "from database.database_util import DatabaseOperations\n",
    "from files_xero.xero_services import xero_services  # for Xero calls\n",
    "from files_dropbox.dropbox_service import DropboxService  # for links and files\n",
    "from files_monday.monday_service import monday_service  # for Monday upserts\n",
    "from files_budget.budget_service import budget_service  # aggregator checks + date-range updates\n",
    "\n",
    "# endregion\n",
    "\n",
    "# region 🏗️ Setup\n",
    "db_ops = DatabaseOperations()\n",
    "logger = logging.getLogger('budget_logger')\n",
    "dropbox_service = DropboxService()\n",
    "use_control_panel = True\n",
    "\n",
    "# Disable all logging messages less severe than CRITICAL\n",
    "logging.disable()\n",
    "\n"
   ],
   "id": "f7abbed6b6b6342c",
   "outputs": [
    {
     "name": "stderr",
     "output_type": "stream",
     "text": [
      "[14:15:35]-[886] [ 🌒DEBUG] [xero_api.py     ] [_refresh_token_if_needed] [XeroAPI] Token still valid, no refresh needed.\n",
      "[14:15:35]-[887] [  🌑INFO] [xero_api.py     ] [        __init__        ] 🚀 - XeroAPI initialized.\n",
      "[14:15:35]-[888] [ 🌒DEBUG] [database_util.py] [        __init__        ] 🌟 DatabaseOperations initialized.\n",
      "[14:15:35]-[888] [  🌑INFO] [xero_services.py] [        __init__        ] XeroServices initialized.\n",
      "[14:15:35]-[977] [  🌑INFO] [dropbox_client.p] [        __init__        ] Dropbox Client Initialized\n",
      "[14:15:35]-[978] [  🌑INFO] [dropbox_client.p] [  refresh_access_token  ] Refreshing access token.\n",
      "[14:15:36]-[688] [  🌑INFO] [dropbox_client.p] [request_json_string_with] Request to team/members/list\n",
      "[14:15:37]-[245] [  🌑INFO] [dropbox_client.p] [        __init__        ] Impersonated user 'jeff@ophelia.company' with member ID 'dbmid:AABJ6ARzUN_VGILRIoQMBkx6vG-tnIDXxCU'.\n",
      "[14:15:37]-[245] [  🌑INFO] [dropbox_client.p] [request_json_string_with] Request to team/namespaces/list\n",
      "[14:15:39]-[067] [  🌑INFO] [dropbox_client.p] [        __init__        ] Found namespace '2024' with ID '4739436193'. Setting path root.\n",
      "[14:15:39]-[068] [ 🌒DEBUG] [dropbox_client.p] [        __init__        ] Path root set to namespace ID '4739436193'.\n",
      "[14:15:39]-[069] [  🌑INFO] [dropbox_client.p] [ start_token_refresher  ] [start_token_refresher] - Token refresher thread started.\n",
      "[14:15:39]-[319] [  🌑INFO] [dropbox_util.py ] [        __init__        ] Dropbox Util  initialized\n",
      "[14:15:39]-[902] [ 🌒DEBUG] [monday_util.py  ] [ get_subitems_column_id ] [get_subitems_column_id] - Found subitems column ID: subitems\n",
      "[14:15:40]-[456] [  🌑INFO] [monday_util.py  ] [        __init__        ] Retrieved subitem board ID: 7969894502\n",
      "[14:15:40]-[465] [ 🌒DEBUG] [monday_api.py   ] [        __init__        ] Initializing MondayAPI singleton... ⚙️\n",
      "[14:15:40]-[466] [  🌑INFO] [monday_api.py   ] [        __init__        ] ✅ Monday API initialized successfully 🏗️\n",
      "[14:15:40]-[468] [ 🌒DEBUG] [database_util.py] [        __init__        ] 🌟 DatabaseOperations initialized.\n",
      "[14:15:40]-[469] [  🌑INFO] [monday_service.p] [        __init__        ] 🌐 [MondayService __init__] - Monday Service initialized 🎉\n",
      "[14:15:40]-[471] [  🌑INFO] [po_log_database_] [        __init__        ] PO Log Database Util initialized\n",
      "[14:15:40]-[472] [ 🌒DEBUG] [database_util.py] [        __init__        ] 🌟 DatabaseOperations initialized.\n",
      "[14:15:40]-[475] [  🌑INFO] [po_log_processor] [        __init__        ] 🎬🍿 PO Log Processor initialized 🌟\n",
      "[14:15:40]-[758] [ 🌒DEBUG] [database_util.py] [        __init__        ] 🌟 DatabaseOperations initialized.\n",
      "[14:15:40]-[764] [  🌑INFO] [ocr_service.py  ] [        __init__        ] OCR Service initialized\n",
      "[14:15:40]-[764] [  🌑INFO] [dropbox_service.] [        __init__        ] 📦 Dropbox event manager initialized. Ready to manage PO logs and file handling!\n",
      "[14:15:40]-[772] [ 🌒DEBUG] [database_util.py] [        __init__        ] 🌟 DatabaseOperations initialized.\n",
      "[14:15:40]-[772] [  🌑INFO] [budget_service.p] [        __init__        ] 🧩 BudgetService (aggregator logic) initialized!\n",
      "[14:15:40]-[773] [ 🌒DEBUG] [database_util.py] [        __init__        ] 🌟 DatabaseOperations initialized.\n"
     ]
    },
    {
     "name": "stdout",
     "output_type": "stream",
     "text": [
      "TESTING\n"
     ]
    }
   ],
   "execution_count": 3
  },
  {
   "metadata": {
    "ExecuteTime": {
     "end_time": "2025-02-18T00:15:42.756684Z",
     "start_time": "2025-02-18T00:15:42.735566Z"
    }
   },
   "cell_type": "code",
   "source": [
    "logger.info(\"🚀 Running aggregator flow => 'po_log_new_trigger'!\")\n",
    "po_log_id = 1\n",
    "\n",
    "# region CONTROL PANEL TOGGLE\n",
    "if use_control_panel:\n",
    "    db_ops.update_po_log(1, status=\"STARTED\")\n",
    "    logger.info(\"🚀 CONTROL PANEL SET PO LOG STATUS TO - STARTED\")\n",
    "# endregion"
   ],
   "id": "712e11bc5168dca2",
   "outputs": [],
   "execution_count": 4
  },
  {
   "metadata": {
    "ExecuteTime": {
     "end_time": "2025-02-18T00:15:45.546689Z",
     "start_time": "2025-02-18T00:15:45.535761Z"
    }
   },
   "cell_type": "code",
   "source": [
    "# region 1) Find po_log rows with status='STARTED'\n",
    "po_log = db_ops.search_po_logs(['id'], [6])\n",
    "if not po_log or not po_log[\"status\"] == \"STARTED\":\n",
    "    logger.info(\"🤷 No po_logs with status=STARTED found. Nothing to do.\")\n",
    "    exit(1)\n",
    "\n",
    "# endregion"
   ],
   "id": "a550089b85f73fbe",
   "outputs": [],
   "execution_count": 5
  },
  {
   "metadata": {
    "ExecuteTime": {
     "end_time": "2025-02-18T00:15:47.780263Z",
     "start_time": "2025-02-18T00:15:47.763330Z"
    }
   },
   "cell_type": "code",
   "source": [
    "# region 2) Parse aggregator data from the text file or source\n",
    "\n",
    "po_log_data = budget_service.parse_po_log_data(po_log)\n",
    "if not po_log_data:\n",
    "    logger.info(\"😶 No aggregator data parsed => skipping.\")\n",
    "    exit(1)\n",
    "# endregion"
   ],
   "id": "95dd4569160eda83",
   "outputs": [],
   "execution_count": 6
  },
  {
   "metadata": {
    "ExecuteTime": {
     "end_time": "2025-02-18T00:15:50.148381Z",
     "start_time": "2025-02-18T00:15:50.077981Z"
    }
   },
   "cell_type": "code",
   "source": [
    "# region CONTACT AGGREGATOR\n",
    "with get_db_session() as session_1:\n",
    "    budget_service.process_contact_aggregator(po_log_data[\"contacts\"], session=session_1)\n",
    "# endregion"
   ],
   "id": "7f5f71b880e751c8",
   "outputs": [],
   "execution_count": 7
  },
  {
   "metadata": {
    "ExecuteTime": {
     "end_time": "2025-02-18T00:16:49.093381Z",
     "start_time": "2025-02-18T00:16:40.629785Z"
    }
   },
   "cell_type": "code",
   "source": [
    "with get_db_session() as session_2:\n",
    "    budget_service.process_aggregator_pos(po_log_data, session=session_2)\n",
    "# endregion"
   ],
   "id": "f493ae3af7606570",
   "outputs": [],
   "execution_count": 10
  },
  {
   "metadata": {
    "ExecuteTime": {
     "end_time": "2025-02-18T00:16:55.288124Z",
     "start_time": "2025-02-18T00:16:50.796434Z"
    }
   },
   "cell_type": "code",
   "source": [
    "# region DETAIL ITEM AGGREGATOR\n",
    "import importlib\n",
    "from files_budget import budget_service\n",
    "importlib.reload(budget_service)\n",
    "from files_budget.budget_service import budget_service\n",
    "\n",
    "with get_db_session() as session_3:\n",
    "    budget_service.process_aggregator_detail_items(po_log_data, session=session_3)\n",
    "\n",
    "# endregion"
   ],
   "id": "f6f46cdb18456f70",
   "outputs": [
    {
     "name": "stdout",
     "output_type": "stream",
     "text": [
      "TESTING\n"
     ]
    }
   ],
   "execution_count": 11
  },
  {
   "metadata": {},
   "cell_type": "code",
   "source": [
    "# region 4) Once we’ve processed everything, set po_log.status='COMPLETED'\n",
    "updated = db_ops.update_po_log(\n",
    "    po_log_id=po_log_id,\n",
    "    status='COMPLETED'\n",
    ")\n",
    "if updated:\n",
    "    logger.info(f\"🏁 PO log (ID={po_log_id}) => status='COMPLETED'!\")\n",
    "else:\n",
    "    logger.warning(f\"⚠️ Could not update PO log ID={po_log_id} => COMPLETED.\")\n",
    "\n",
    "# endregion\n"
   ],
   "id": "4d8f4acfacbd803c",
   "outputs": [],
   "execution_count": null
  }
 ],
 "metadata": {
  "kernelspec": {
   "display_name": "Python 3",
   "language": "python",
   "name": "python3"
  },
  "language_info": {
   "codemirror_mode": {
    "name": "ipython",
    "version": 2
   },
   "file_extension": ".py",
   "mimetype": "text/x-python",
   "name": "python",
   "nbconvert_exporter": "python",
   "pygments_lexer": "ipython2",
   "version": "2.7.6"
  }
 },
 "nbformat": 4,
 "nbformat_minor": 5
}
