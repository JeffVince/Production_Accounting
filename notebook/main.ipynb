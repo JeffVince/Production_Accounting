{
 "cells": [
  {
   "cell_type": "code",
   "id": "initial_id",
   "metadata": {
    "collapsed": true,
    "ExecuteTime": {
     "end_time": "2025-02-18T22:05:08.853080Z",
     "start_time": "2025-02-18T22:05:08.647325Z"
    }
   },
   "source": [
    "import logging\n",
    "\n",
    "from sqlalchemy.exc import OperationalError\n",
    "\n",
    "from server_celery.logging_setup import setup_logging  # Ensure correct import path\n",
    "\n",
    "# 1. Initialize logging **before** creating the Celery app\n",
    "setup_logging()\n",
    "import sys\n",
    "from celery import Celery, Task\n",
    "from database.db_util import initialize_database\n",
    "from utilities.config import Config\n",
    "from dotenv import load_dotenv\n",
    "from server_celery.logging_setup import clear_log_files\n",
    "load_dotenv(\"../.env\")\n",
    "logger = logging.getLogger('admin_logger')\n"
   ],
   "outputs": [],
   "execution_count": 1
  },
  {
   "metadata": {
    "ExecuteTime": {
     "end_time": "2025-02-18T22:05:10.300631Z",
     "start_time": "2025-02-18T22:05:10.234297Z"
    }
   },
   "cell_type": "code",
   "source": [
    "config = Config()\n",
    "db_settings = config.get_database_settings(config.USE_LOCAL)\n",
    "\n",
    "try:\n",
    "    initialize_database(db_settings['url'])\n",
    "    logger.info('DB initialization is done.')\n",
    "except Exception as e:\n",
    "    logger.error(f'DB initialization failed! Error={e}', exc_info=True)"
   ],
   "id": "c51a3ff80df09ff5",
   "outputs": [
    {
     "name": "stderr",
     "output_type": "stream",
     "text": [
      "[14:05:10]-[298] [ 🌒DEBUG] [db_util.py      ] [  initialize_database   ] Database initialized with connection string: mysql+pymysql://root:z //55gohi@localhost:3306/virtual_pm\n",
      "[14:05:10]-[299] [  🌑INFO] [4083959711.py   ] [        <module>        ] DB initialization is done.\n"
     ]
    }
   ],
   "execution_count": 2
  },
  {
   "metadata": {
    "ExecuteTime": {
     "end_time": "2025-02-18T22:05:15.393811Z",
     "start_time": "2025-02-18T22:05:12.682796Z"
    }
   },
   "cell_type": "code",
   "source": [
    "\"\"\"\n",
    "server_celery/triggers/budget_triggers.py\n",
    "\n",
    "Holds trigger functions for:\n",
    "  - PO Log\n",
    "  - PurchaseOrder (PO)\n",
    "  - DetailItem\n",
    "\n",
    "Utilizes aggregator checks to distinguish between partial vs. final logic.\n",
    "In partial mode (aggregator in progress), we skip big logic like Xero or Monday calls.\n",
    "Once aggregator is done (status='COMPLETED'), we perform the single-item logic,\n",
    "including sibling checks (like for INV sums, CC receipts, etc.).\n",
    "\"\"\"\n",
    "\n",
    "import logging\n",
    "\n",
    "# region 🔧 Imports\n",
    "from database.db_util import get_db_session\n",
    "from database.database_util import DatabaseOperations\n",
    "from files_xero.xero_services import xero_services  # for Xero calls\n",
    "from files_dropbox.dropbox_service import DropboxService  # for links and files\n",
    "from files_monday.monday_service import monday_service  # for Monday upserts\n",
    "from files_budget.budget_service import budget_service  # aggregator checks + date-range updates\n",
    "\n",
    "# endregion\n",
    "\n",
    "# region 🏗️ Setup\n",
    "db_ops = DatabaseOperations()\n",
    "logger = logging.getLogger('budget_logger')\n",
    "dropbox_service = DropboxService()\n",
    "use_control_panel = True\n",
    "\n",
    "# Disable all logging messages less severe than CRITICAL\n",
    "logging.disable()\n",
    "\n"
   ],
   "id": "f7abbed6b6b6342c",
   "outputs": [
    {
     "name": "stderr",
     "output_type": "stream",
     "text": [
      "[14:05:12]-[790] [ 🌒DEBUG] [xero_api.py     ] [_refresh_token_if_needed] [XeroAPI] Token still valid, no refresh needed.\n",
      "[14:05:12]-[790] [  🌑INFO] [xero_api.py     ] [        __init__        ] 🚀 - XeroAPI initialized.\n",
      "[14:05:12]-[791] [ 🌒DEBUG] [database_util.py] [        __init__        ] 🌟 DatabaseOperations initialized.\n",
      "[14:05:12]-[791] [  🌑INFO] [xero_services.py] [        __init__        ] XeroServices initialized.\n",
      "[14:05:12]-[870] [  🌑INFO] [dropbox_client.p] [        __init__        ] Dropbox Client Initialized\n",
      "[14:05:12]-[871] [  🌑INFO] [dropbox_client.p] [  refresh_access_token  ] Refreshing access token.\n",
      "[14:05:13]-[127] [  🌑INFO] [dropbox_client.p] [request_json_string_with] Request to team/members/list\n",
      "[14:05:13]-[363] [  🌑INFO] [dropbox_client.p] [        __init__        ] Impersonated user 'jeff@ophelia.company' with member ID 'dbmid:AABJ6ARzUN_VGILRIoQMBkx6vG-tnIDXxCU'.\n",
      "[14:05:13]-[364] [  🌑INFO] [dropbox_client.p] [request_json_string_with] Request to team/namespaces/list\n",
      "[14:05:13]-[895] [  🌑INFO] [dropbox_client.p] [        __init__        ] Found namespace '2024' with ID '4739436193'. Setting path root.\n",
      "[14:05:13]-[895] [ 🌒DEBUG] [dropbox_client.p] [        __init__        ] Path root set to namespace ID '4739436193'.\n",
      "[14:05:13]-[896] [  🌑INFO] [dropbox_client.p] [ start_token_refresher  ] [start_token_refresher] - Token refresher thread started.\n",
      "[14:05:14]-[173] [  🌑INFO] [dropbox_util.py ] [        __init__        ] Dropbox Util  initialized\n",
      "[14:05:14]-[678] [ 🌒DEBUG] [monday_util.py  ] [ get_subitems_column_id ] [get_subitems_column_id] - Found subitems column ID: subitems\n",
      "[14:05:15]-[110] [  🌑INFO] [monday_util.py  ] [        __init__        ] Retrieved subitem board ID: 7969894502\n",
      "[14:05:15]-[113] [ 🌒DEBUG] [monday_api.py   ] [        __init__        ] Initializing MondayAPI singleton... ⚙️\n",
      "[14:05:15]-[114] [  🌑INFO] [monday_api.py   ] [        __init__        ] ✅ Monday API initialized successfully 🏗️\n",
      "[14:05:15]-[116] [ 🌒DEBUG] [database_util.py] [        __init__        ] 🌟 DatabaseOperations initialized.\n",
      "[14:05:15]-[116] [  🌑INFO] [monday_service.p] [        __init__        ] 🌐 [MondayService __init__] - Monday Service initialized 🎉\n",
      "[14:05:15]-[118] [  🌑INFO] [po_log_database_] [        __init__        ] PO Log Database Util initialized\n",
      "[14:05:15]-[119] [ 🌒DEBUG] [database_util.py] [        __init__        ] 🌟 DatabaseOperations initialized.\n",
      "[14:05:15]-[120] [  🌑INFO] [po_log_processor] [        __init__        ] 🎬🍿 PO Log Processor initialized 🌟\n",
      "[14:05:15]-[379] [ 🌒DEBUG] [database_util.py] [        __init__        ] 🌟 DatabaseOperations initialized.\n",
      "[14:05:15]-[384] [  🌑INFO] [ocr_service.py  ] [        __init__        ] OCR Service initialized\n",
      "[14:05:15]-[384] [  🌑INFO] [dropbox_service.] [        __init__        ] 📦 Dropbox event manager initialized. Ready to manage PO logs and file handling!\n",
      "[14:05:15]-[391] [ 🌒DEBUG] [database_util.py] [        __init__        ] 🌟 DatabaseOperations initialized.\n",
      "[14:05:15]-[391] [  🌑INFO] [budget_service.p] [        __init__        ] 🧩 BudgetService (aggregator logic) initialized!\n",
      "[14:05:15]-[392] [ 🌒DEBUG] [database_util.py] [        __init__        ] 🌟 DatabaseOperations initialized.\n"
     ]
    }
   ],
   "execution_count": 3
  },
  {
   "metadata": {
    "ExecuteTime": {
     "end_time": "2025-02-18T22:05:17.810982Z",
     "start_time": "2025-02-18T22:05:17.791158Z"
    }
   },
   "cell_type": "code",
   "source": [
    "logger.info(\"🚀 Running aggregator flow => 'po_log_new_trigger'!\")\n",
    "po_log_id = 1\n",
    "\n",
    "# region CONTROL PANEL TOGGLE\n",
    "if use_control_panel:\n",
    "    db_ops.update_po_log(1, status=\"STARTED\")\n",
    "    logger.info(\"🚀 CONTROL PANEL SET PO LOG STATUS TO - STARTED\")\n",
    "# endregion"
   ],
   "id": "712e11bc5168dca2",
   "outputs": [],
   "execution_count": 4
  },
  {
   "metadata": {
    "ExecuteTime": {
     "end_time": "2025-02-18T22:05:19.495848Z",
     "start_time": "2025-02-18T22:05:19.491083Z"
    }
   },
   "cell_type": "code",
   "source": [
    "# region 1) Find po_log rows with status='STARTED'\n",
    "po_log = db_ops.search_po_logs(['id'], [6])\n",
    "if not po_log or not po_log[\"status\"] == \"STARTED\":\n",
    "    logger.info(\"🤷 No po_logs with status=STARTED found. Nothing to do.\")\n",
    "    exit(1)\n",
    "\n",
    "# endregion"
   ],
   "id": "a550089b85f73fbe",
   "outputs": [],
   "execution_count": 5
  },
  {
   "metadata": {
    "ExecuteTime": {
     "end_time": "2025-02-18T22:05:21.408367Z",
     "start_time": "2025-02-18T22:05:21.392490Z"
    }
   },
   "cell_type": "code",
   "source": [
    "# region 2) Parse aggregator data from the text file or source\n",
    "\n",
    "po_log_data = budget_service.parse_po_log_data(po_log)\n",
    "if not po_log_data:\n",
    "    logger.info(\"😶 No aggregator data parsed => skipping.\")\n",
    "    exit(1)\n",
    "# endregion"
   ],
   "id": "95dd4569160eda83",
   "outputs": [],
   "execution_count": 6
  },
  {
   "metadata": {
    "ExecuteTime": {
     "end_time": "2025-02-18T22:05:29.322467Z",
     "start_time": "2025-02-18T22:05:29.257338Z"
    }
   },
   "cell_type": "code",
   "source": [
    "# region CONTACT AGGREGATOR\n",
    "with get_db_session() as session_1:\n",
    "    budget_service.process_contact_aggregator(po_log_data[\"contacts\"], session=session_1)\n",
    "# endregion"
   ],
   "id": "7f5f71b880e751c8",
   "outputs": [],
   "execution_count": 8
  },
  {
   "metadata": {
    "ExecuteTime": {
     "end_time": "2025-02-18T22:30:11.380925Z",
     "start_time": "2025-02-18T22:30:00.655386Z"
    }
   },
   "cell_type": "code",
   "source": [
    "with get_db_session() as session_2:\n",
    "    budget_service.process_aggregator_pos(po_log_data, session=session_2)\n",
    "# endregion"
   ],
   "id": "f493ae3af7606570",
   "outputs": [],
   "execution_count": 16
  },
  {
   "metadata": {
    "ExecuteTime": {
     "end_time": "2025-02-18T22:30:45.090283Z",
     "start_time": "2025-02-18T22:30:21.607227Z"
    }
   },
   "cell_type": "code",
   "source": [
    "# region DETAIL ITEM AGGREGATOR\n",
    "import importlib\n",
    "from files_budget import budget_service\n",
    "importlib.reload(budget_service)\n",
    "from files_budget.budget_service import budget_service\n",
    "# Re-enable logging by setting the disable level to NOTSET\n",
    "logging.disable(logging.WARN)\n",
    "logging.info(\"This message will now appear.\")\n",
    "with get_db_session() as session_3:\n",
    "    budget_service.process_aggregator_detail_items(po_log_data, session=session_3)\n",
    "\n",
    "# endregion"
   ],
   "id": "f6f46cdb18456f70",
   "outputs": [
    {
     "ename": "KeyboardInterrupt",
     "evalue": "",
     "output_type": "error",
     "traceback": [
      "\u001B[0;31m---------------------------------------------------------------------------\u001B[0m",
      "\u001B[0;31mKeyboardInterrupt\u001B[0m                         Traceback (most recent call last)",
      "File \u001B[0;32m~/PycharmProjects/Dropbox Listener/files_monday/monday_api.py:418\u001B[0m, in \u001B[0;36mMondayAPI.batch_create_or_update_subitems\u001B[0;34m(self, subitems_batch, create)\u001B[0m\n\u001B[1;32m    417\u001B[0m     idx \u001B[38;5;241m+\u001B[39m\u001B[38;5;241m=\u001B[39m \u001B[38;5;28mself\u001B[39m\u001B[38;5;241m.\u001B[39msubitem_batch_size\n\u001B[0;32m--> 418\u001B[0m \u001B[38;5;28;01mfor\u001B[39;00m future \u001B[38;5;129;01min\u001B[39;00m concurrent\u001B[38;5;241m.\u001B[39mfutures\u001B[38;5;241m.\u001B[39mas_completed(futures):\n\u001B[1;32m    419\u001B[0m     resp \u001B[38;5;241m=\u001B[39m future\u001B[38;5;241m.\u001B[39mresult()\n",
      "File \u001B[0;32m/Library/Frameworks/Python.framework/Versions/3.10/lib/python3.10/concurrent/futures/_base.py:245\u001B[0m, in \u001B[0;36mas_completed\u001B[0;34m(fs, timeout)\u001B[0m\n\u001B[1;32m    241\u001B[0m         \u001B[38;5;28;01mraise\u001B[39;00m \u001B[38;5;167;01mTimeoutError\u001B[39;00m(\n\u001B[1;32m    242\u001B[0m                 \u001B[38;5;124m'\u001B[39m\u001B[38;5;132;01m%d\u001B[39;00m\u001B[38;5;124m (of \u001B[39m\u001B[38;5;132;01m%d\u001B[39;00m\u001B[38;5;124m) futures unfinished\u001B[39m\u001B[38;5;124m'\u001B[39m \u001B[38;5;241m%\u001B[39m (\n\u001B[1;32m    243\u001B[0m                 \u001B[38;5;28mlen\u001B[39m(pending), total_futures))\n\u001B[0;32m--> 245\u001B[0m \u001B[43mwaiter\u001B[49m\u001B[38;5;241;43m.\u001B[39;49m\u001B[43mevent\u001B[49m\u001B[38;5;241;43m.\u001B[39;49m\u001B[43mwait\u001B[49m\u001B[43m(\u001B[49m\u001B[43mwait_timeout\u001B[49m\u001B[43m)\u001B[49m\n\u001B[1;32m    247\u001B[0m \u001B[38;5;28;01mwith\u001B[39;00m waiter\u001B[38;5;241m.\u001B[39mlock:\n",
      "File \u001B[0;32m/Library/Frameworks/Python.framework/Versions/3.10/lib/python3.10/threading.py:607\u001B[0m, in \u001B[0;36mEvent.wait\u001B[0;34m(self, timeout)\u001B[0m\n\u001B[1;32m    606\u001B[0m \u001B[38;5;28;01mif\u001B[39;00m \u001B[38;5;129;01mnot\u001B[39;00m signaled:\n\u001B[0;32m--> 607\u001B[0m     signaled \u001B[38;5;241m=\u001B[39m \u001B[38;5;28;43mself\u001B[39;49m\u001B[38;5;241;43m.\u001B[39;49m\u001B[43m_cond\u001B[49m\u001B[38;5;241;43m.\u001B[39;49m\u001B[43mwait\u001B[49m\u001B[43m(\u001B[49m\u001B[43mtimeout\u001B[49m\u001B[43m)\u001B[49m\n\u001B[1;32m    608\u001B[0m \u001B[38;5;28;01mreturn\u001B[39;00m signaled\n",
      "File \u001B[0;32m/Library/Frameworks/Python.framework/Versions/3.10/lib/python3.10/threading.py:320\u001B[0m, in \u001B[0;36mCondition.wait\u001B[0;34m(self, timeout)\u001B[0m\n\u001B[1;32m    319\u001B[0m \u001B[38;5;28;01mif\u001B[39;00m timeout \u001B[38;5;129;01mis\u001B[39;00m \u001B[38;5;28;01mNone\u001B[39;00m:\n\u001B[0;32m--> 320\u001B[0m     \u001B[43mwaiter\u001B[49m\u001B[38;5;241;43m.\u001B[39;49m\u001B[43macquire\u001B[49m\u001B[43m(\u001B[49m\u001B[43m)\u001B[49m\n\u001B[1;32m    321\u001B[0m     gotit \u001B[38;5;241m=\u001B[39m \u001B[38;5;28;01mTrue\u001B[39;00m\n",
      "\u001B[0;31mKeyboardInterrupt\u001B[0m: ",
      "\nDuring handling of the above exception, another exception occurred:\n",
      "\u001B[0;31mKeyboardInterrupt\u001B[0m                         Traceback (most recent call last)",
      "Cell \u001B[0;32mIn[17], line 10\u001B[0m\n\u001B[1;32m      8\u001B[0m logging\u001B[38;5;241m.\u001B[39minfo(\u001B[38;5;124m\"\u001B[39m\u001B[38;5;124mThis message will now appear.\u001B[39m\u001B[38;5;124m\"\u001B[39m)\n\u001B[1;32m      9\u001B[0m \u001B[38;5;28;01mwith\u001B[39;00m get_db_session() \u001B[38;5;28;01mas\u001B[39;00m session_3:\n\u001B[0;32m---> 10\u001B[0m     \u001B[43mbudget_service\u001B[49m\u001B[38;5;241;43m.\u001B[39;49m\u001B[43mprocess_aggregator_detail_items\u001B[49m\u001B[43m(\u001B[49m\u001B[43mpo_log_data\u001B[49m\u001B[43m,\u001B[49m\u001B[43m \u001B[49m\u001B[43msession\u001B[49m\u001B[38;5;241;43m=\u001B[39;49m\u001B[43msession_3\u001B[49m\u001B[43m)\u001B[49m\n\u001B[1;32m     12\u001B[0m \u001B[38;5;66;03m# endregion\u001B[39;00m\n",
      "File \u001B[0;32m~/PycharmProjects/Dropbox Listener/files_budget/budget_service.py:1436\u001B[0m, in \u001B[0;36mBudgetService.process_aggregator_detail_items\u001B[0;34m(self, po_log_data, session, chunk_size)\u001B[0m\n\u001B[1;32m   1434\u001B[0m     \u001B[38;5;28mself\u001B[39m\u001B[38;5;241m.\u001B[39mmonday_service\u001B[38;5;241m.\u001B[39mbuffered_upsert_detail_item(detail_dict)\n\u001B[1;32m   1435\u001B[0m \u001B[38;5;28mself\u001B[39m\u001B[38;5;241m.\u001B[39mlogger\u001B[38;5;241m.\u001B[39mdebug(\u001B[38;5;124m\"\u001B[39m\u001B[38;5;124mExecuting batch upsert for current Monday chunk.\u001B[39m\u001B[38;5;124m\"\u001B[39m)\n\u001B[0;32m-> 1436\u001B[0m results \u001B[38;5;241m=\u001B[39m \u001B[38;5;28;43mself\u001B[39;49m\u001B[38;5;241;43m.\u001B[39;49m\u001B[43mmonday_service\u001B[49m\u001B[38;5;241;43m.\u001B[39;49m\u001B[43mexecute_batch_upsert_detail_items\u001B[49m\u001B[43m(\u001B[49m\u001B[43m)\u001B[49m\n\u001B[1;32m   1438\u001B[0m \u001B[38;5;28;01mif\u001B[39;00m results:\n\u001B[1;32m   1439\u001B[0m     pulse_updates \u001B[38;5;241m=\u001B[39m []\n",
      "File \u001B[0;32m~/PycharmProjects/Dropbox Listener/files_monday/monday_service.py:247\u001B[0m, in \u001B[0;36mMondayService.execute_batch_upsert_detail_items\u001B[0;34m(self)\u001B[0m\n\u001B[1;32m    245\u001B[0m \u001B[38;5;66;03m# Process creations.\u001B[39;00m\n\u001B[1;32m    246\u001B[0m \u001B[38;5;28;01mif\u001B[39;00m items_to_create:\n\u001B[0;32m--> 247\u001B[0m     created_results \u001B[38;5;241m=\u001B[39m \u001B[38;5;28;43mself\u001B[39;49m\u001B[38;5;241;43m.\u001B[39;49m\u001B[43mmonday_api\u001B[49m\u001B[38;5;241;43m.\u001B[39;49m\u001B[43mbatch_create_or_update_subitems\u001B[49m\u001B[43m(\u001B[49m\n\u001B[1;32m    248\u001B[0m \u001B[43m        \u001B[49m\u001B[43msubitems_batch\u001B[49m\u001B[38;5;241;43m=\u001B[39;49m\u001B[43mitems_to_create\u001B[49m\u001B[43m,\u001B[49m\n\u001B[1;32m    249\u001B[0m \u001B[43m        \u001B[49m\u001B[43mcreate\u001B[49m\u001B[38;5;241;43m=\u001B[39;49m\u001B[38;5;28;43;01mTrue\u001B[39;49;00m\n\u001B[1;32m    250\u001B[0m \u001B[43m    \u001B[49m\u001B[43m)\u001B[49m\n\u001B[1;32m    251\u001B[0m     monday_results\u001B[38;5;241m.\u001B[39mextend(created_results)\n\u001B[1;32m    253\u001B[0m \u001B[38;5;66;03m# Process updates.\u001B[39;00m\n",
      "File \u001B[0;32m~/PycharmProjects/Dropbox Listener/files_monday/monday_api.py:412\u001B[0m, in \u001B[0;36mMondayAPI.batch_create_or_update_subitems\u001B[0;34m(self, subitems_batch, create)\u001B[0m\n\u001B[1;32m    410\u001B[0m idx \u001B[38;5;241m=\u001B[39m \u001B[38;5;241m0\u001B[39m\n\u001B[1;32m    411\u001B[0m \u001B[38;5;66;03m# Use the dynamic max_concurrent_requests here.\u001B[39;00m\n\u001B[0;32m--> 412\u001B[0m \u001B[38;5;28;01mwith\u001B[39;00m concurrent\u001B[38;5;241m.\u001B[39mfutures\u001B[38;5;241m.\u001B[39mThreadPoolExecutor(max_workers\u001B[38;5;241m=\u001B[39m\u001B[38;5;28mself\u001B[39m\u001B[38;5;241m.\u001B[39mmax_concurrent_requests) \u001B[38;5;28;01mas\u001B[39;00m executor:\n\u001B[1;32m    413\u001B[0m     \u001B[38;5;28;01mwhile\u001B[39;00m idx \u001B[38;5;241m<\u001B[39m \u001B[38;5;28mlen\u001B[39m(subitems_batch):\n\u001B[1;32m    414\u001B[0m         chunk \u001B[38;5;241m=\u001B[39m subitems_batch[idx: idx \u001B[38;5;241m+\u001B[39m \u001B[38;5;28mself\u001B[39m\u001B[38;5;241m.\u001B[39msubitem_batch_size]\n",
      "File \u001B[0;32m/Library/Frameworks/Python.framework/Versions/3.10/lib/python3.10/concurrent/futures/_base.py:649\u001B[0m, in \u001B[0;36mExecutor.__exit__\u001B[0;34m(self, exc_type, exc_val, exc_tb)\u001B[0m\n\u001B[1;32m    648\u001B[0m \u001B[38;5;28;01mdef\u001B[39;00m\u001B[38;5;250m \u001B[39m\u001B[38;5;21m__exit__\u001B[39m(\u001B[38;5;28mself\u001B[39m, exc_type, exc_val, exc_tb):\n\u001B[0;32m--> 649\u001B[0m     \u001B[38;5;28;43mself\u001B[39;49m\u001B[38;5;241;43m.\u001B[39;49m\u001B[43mshutdown\u001B[49m\u001B[43m(\u001B[49m\u001B[43mwait\u001B[49m\u001B[38;5;241;43m=\u001B[39;49m\u001B[38;5;28;43;01mTrue\u001B[39;49;00m\u001B[43m)\u001B[49m\n\u001B[1;32m    650\u001B[0m     \u001B[38;5;28;01mreturn\u001B[39;00m \u001B[38;5;28;01mFalse\u001B[39;00m\n",
      "File \u001B[0;32m/Library/Frameworks/Python.framework/Versions/3.10/lib/python3.10/concurrent/futures/thread.py:235\u001B[0m, in \u001B[0;36mThreadPoolExecutor.shutdown\u001B[0;34m(self, wait, cancel_futures)\u001B[0m\n\u001B[1;32m    233\u001B[0m \u001B[38;5;28;01mif\u001B[39;00m wait:\n\u001B[1;32m    234\u001B[0m     \u001B[38;5;28;01mfor\u001B[39;00m t \u001B[38;5;129;01min\u001B[39;00m \u001B[38;5;28mself\u001B[39m\u001B[38;5;241m.\u001B[39m_threads:\n\u001B[0;32m--> 235\u001B[0m         \u001B[43mt\u001B[49m\u001B[38;5;241;43m.\u001B[39;49m\u001B[43mjoin\u001B[49m\u001B[43m(\u001B[49m\u001B[43m)\u001B[49m\n",
      "File \u001B[0;32m/Library/Frameworks/Python.framework/Versions/3.10/lib/python3.10/threading.py:1096\u001B[0m, in \u001B[0;36mThread.join\u001B[0;34m(self, timeout)\u001B[0m\n\u001B[1;32m   1093\u001B[0m     \u001B[38;5;28;01mraise\u001B[39;00m \u001B[38;5;167;01mRuntimeError\u001B[39;00m(\u001B[38;5;124m\"\u001B[39m\u001B[38;5;124mcannot join current thread\u001B[39m\u001B[38;5;124m\"\u001B[39m)\n\u001B[1;32m   1095\u001B[0m \u001B[38;5;28;01mif\u001B[39;00m timeout \u001B[38;5;129;01mis\u001B[39;00m \u001B[38;5;28;01mNone\u001B[39;00m:\n\u001B[0;32m-> 1096\u001B[0m     \u001B[38;5;28;43mself\u001B[39;49m\u001B[38;5;241;43m.\u001B[39;49m\u001B[43m_wait_for_tstate_lock\u001B[49m\u001B[43m(\u001B[49m\u001B[43m)\u001B[49m\n\u001B[1;32m   1097\u001B[0m \u001B[38;5;28;01melse\u001B[39;00m:\n\u001B[1;32m   1098\u001B[0m     \u001B[38;5;66;03m# the behavior of a negative timeout isn't documented, but\u001B[39;00m\n\u001B[1;32m   1099\u001B[0m     \u001B[38;5;66;03m# historically .join(timeout=x) for x<0 has acted as if timeout=0\u001B[39;00m\n\u001B[1;32m   1100\u001B[0m     \u001B[38;5;28mself\u001B[39m\u001B[38;5;241m.\u001B[39m_wait_for_tstate_lock(timeout\u001B[38;5;241m=\u001B[39m\u001B[38;5;28mmax\u001B[39m(timeout, \u001B[38;5;241m0\u001B[39m))\n",
      "File \u001B[0;32m/Library/Frameworks/Python.framework/Versions/3.10/lib/python3.10/threading.py:1116\u001B[0m, in \u001B[0;36mThread._wait_for_tstate_lock\u001B[0;34m(self, block, timeout)\u001B[0m\n\u001B[1;32m   1113\u001B[0m     \u001B[38;5;28;01mreturn\u001B[39;00m\n\u001B[1;32m   1115\u001B[0m \u001B[38;5;28;01mtry\u001B[39;00m:\n\u001B[0;32m-> 1116\u001B[0m     \u001B[38;5;28;01mif\u001B[39;00m \u001B[43mlock\u001B[49m\u001B[38;5;241;43m.\u001B[39;49m\u001B[43macquire\u001B[49m\u001B[43m(\u001B[49m\u001B[43mblock\u001B[49m\u001B[43m,\u001B[49m\u001B[43m \u001B[49m\u001B[43mtimeout\u001B[49m\u001B[43m)\u001B[49m:\n\u001B[1;32m   1117\u001B[0m         lock\u001B[38;5;241m.\u001B[39mrelease()\n\u001B[1;32m   1118\u001B[0m         \u001B[38;5;28mself\u001B[39m\u001B[38;5;241m.\u001B[39m_stop()\n",
      "\u001B[0;31mKeyboardInterrupt\u001B[0m: "
     ]
    }
   ],
   "execution_count": 17
  },
  {
   "metadata": {},
   "cell_type": "code",
   "source": [
    "# region 4) Once we’ve processed everything, set po_log.status='COMPLETED'\n",
    "updated = db_ops.update_po_log(\n",
    "    po_log_id=po_log_id,\n",
    "    status='COMPLETED'\n",
    ")\n",
    "if updated:\n",
    "    logger.info(f\"🏁 PO log (ID={po_log_id}) => status='COMPLETED'!\")\n",
    "else:\n",
    "    logger.warning(f\"⚠️ Could not update PO log ID={po_log_id} => COMPLETED.\")\n",
    "\n",
    "# endregion\n"
   ],
   "id": "4d8f4acfacbd803c",
   "outputs": [],
   "execution_count": null
  }
 ],
 "metadata": {
  "kernelspec": {
   "display_name": "Python 3",
   "language": "python",
   "name": "python3"
  },
  "language_info": {
   "codemirror_mode": {
    "name": "ipython",
    "version": 2
   },
   "file_extension": ".py",
   "mimetype": "text/x-python",
   "name": "python",
   "nbconvert_exporter": "python",
   "pygments_lexer": "ipython2",
   "version": "2.7.6"
  }
 },
 "nbformat": 4,
 "nbformat_minor": 5
}
